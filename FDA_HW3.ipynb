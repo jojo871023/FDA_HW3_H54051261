{
  "nbformat": 4,
  "nbformat_minor": 0,
  "metadata": {
    "kernelspec": {
      "display_name": "Python 3",
      "language": "python",
      "name": "python3"
    },
    "language_info": {
      "codemirror_mode": {
        "name": "ipython",
        "version": 3
      },
      "file_extension": ".py",
      "mimetype": "text/x-python",
      "name": "python",
      "nbconvert_exporter": "python",
      "pygments_lexer": "ipython3",
      "version": "3.6.9"
    },
    "colab": {
      "name": "main (1).ipynb",
      "provenance": [],
      "collapsed_sections": []
    }
  },
  "cells": [
    {
      "cell_type": "markdown",
      "metadata": {
        "id": "ewx9i7rghF4U",
        "colab_type": "text"
      },
      "source": [
        "# 作業 3\n"
      ]
    },
    {
      "cell_type": "markdown",
      "metadata": {
        "id": "AQSm-WeRhF4X",
        "colab_type": "text"
      },
      "source": [
        "## 環境\n",
        "\n",
        "請填寫當前執行使用的環境。\n",
        "\n",
        "|環境|名稱|版本|\n",
        "|-|-|-|\n",
        "|作業系統|Windows|10|\n",
        "|程式執行環境|Colaboratory||\n",
        "|python 版本|python3|3.6.9|\n",
        "|安裝環境|pip|20.0.2|"
      ]
    },
    {
      "cell_type": "markdown",
      "metadata": {
        "id": "YKK1Ujl-hF4Y",
        "colab_type": "text"
      },
      "source": [
        "## 安裝\n",
        "\n",
        "請填寫安裝套件需要的指令\n",
        "\n",
        "```sh\n",
        "pip install -r requirements.txt\n",
        "```"
      ]
    },
    {
      "cell_type": "markdown",
      "metadata": {
        "id": "wCJhrELEhF4Z",
        "colab_type": "text"
      },
      "source": [
        "## 計算資源\n",
        "\n",
        "請填寫執行程式所需要的計算資源，請確保所有資源限制在單一個人桌上型電腦且能夠以總市價低於 5 萬的手段取得。\n",
        "\n",
        "|計算資源|答案|\n",
        "|-|-|\n",
        "|使用 CPU 核心數|1|\n",
        "|記憶體需求|$\\leq 1$GB|\n",
        "|有無使用 GPU|無|\n",
        "|GPU 版本|無|\n",
        "|GPU 記憶體需求|$\\leq 1$GB|"
      ]
    },
    {
      "cell_type": "markdown",
      "metadata": {
        "id": "YRBvQgKShF4Z",
        "colab_type": "text"
      },
      "source": [
        "## 參考連結\n",
        "\n",
        "- 有無參考他人之實驗結果：無\n",
        "- 參考連結："
      ]
    },
    {
      "cell_type": "code",
      "metadata": {
        "id": "ehi_aTO8hF4a",
        "colab_type": "code",
        "outputId": "209f38f7-a694-486b-b04f-da51f8f089a3",
        "colab": {
          "base_uri": "https://localhost:8080/",
          "height": 492
        }
      },
      "source": [
        "# 請勿更動此區塊程式碼\n",
        "\n",
        "import time\n",
        "import numpy as np\n",
        "import pandas as pd\n",
        "import matplotlib.pyplot as plt # 繪圖函式庫\n",
        "\n",
        "EXECUTION_START_TIME = time.time() # 計算執行時間\n",
        "\n",
        "df = pd.read_csv('trainingset.csv')      # 讀取訓練資料，請勿更改路徑\n",
        "test = pd.read_csv('testingset.csv')     # 讀取預測資料\n",
        "\n",
        "print(df)                                #查看訓練資料的內容\n",
        "df.info()                                #查看訓練資料相關資訊是否缺失以及類型\n"
      ],
      "execution_count": 1,
      "outputs": [
        {
          "output_type": "stream",
          "text": [
            "             Date  Open Price  Close Price  High Price  Low Price      Volume\n",
            "0     02-Jan-2009      902.99       931.80      934.73     899.35  4048270080\n",
            "1     05-Jan-2009      929.17       927.45      936.63     919.53  5413910016\n",
            "2     06-Jan-2009      931.17       934.70      943.85     927.28  5392620032\n",
            "3     07-Jan-2009      927.45       906.65      927.45     902.37  4704940032\n",
            "4     08-Jan-2009      905.73       909.73      910.00     896.81  4991549952\n",
            "...           ...         ...          ...         ...        ...         ...\n",
            "2259  22-Dec-2017     2684.22      2683.34     2685.35    2678.13  1383888512\n",
            "2260  26-Dec-2017     2679.09      2680.50     2682.74    2677.96  1103808384\n",
            "2261  27-Dec-2017     2682.10      2682.62     2685.64    2678.91  1149108352\n",
            "2262  28-Dec-2017     2686.10      2687.54     2687.66    2682.69  1126089856\n",
            "2263  29-Dec-2017     2689.15      2673.61     2692.12    2673.61  1332374016\n",
            "\n",
            "[2264 rows x 6 columns]\n",
            "<class 'pandas.core.frame.DataFrame'>\n",
            "RangeIndex: 2264 entries, 0 to 2263\n",
            "Data columns (total 6 columns):\n",
            " #   Column       Non-Null Count  Dtype  \n",
            "---  ------       --------------  -----  \n",
            " 0   Date         2264 non-null   object \n",
            " 1   Open Price   2264 non-null   float64\n",
            " 2   Close Price  2264 non-null   float64\n",
            " 3   High Price   2264 non-null   float64\n",
            " 4   Low Price    2264 non-null   float64\n",
            " 5   Volume       2264 non-null   int64  \n",
            "dtypes: float64(4), int64(1), object(1)\n",
            "memory usage: 106.2+ KB\n"
          ],
          "name": "stdout"
        }
      ]
    },
    {
      "cell_type": "markdown",
      "metadata": {
        "id": "hOliDOy6hF4e",
        "colab_type": "text"
      },
      "source": [
        "## 資料分析與前處理\n",
        "\n",
        "請在此區塊後使用**一個或多個區塊**進行資料分析與前處理，項目可以包含：\n",
        "\n",
        "- 資料視覺化\n",
        "- 相關係數\n",
        "- 決定輸入特徵\n",
        "- 處理缺失值\n",
        "- 轉換數值\n",
        "- 轉換類別\n",
        "- 其他\n",
        "\n",
        "請以 `markdown` 簡單描述**流程**、**方法**與**原因**：\n",
        "\n",
        "1. 觀察...，發現...\n",
        "2. 填補...，策略...\n",
        "3. 轉換...，原因..."
      ]
    },
    {
      "cell_type": "code",
      "metadata": {
        "id": "o6N_C6ILhF4f",
        "colab_type": "code",
        "outputId": "3702dc34-5fb6-495b-9587-c87f812df2c0",
        "colab": {
          "base_uri": "https://localhost:8080/",
          "height": 496
        }
      },
      "source": [
        "# 資料分析與前處理\n",
        "from sklearn.preprocessing import LabelEncoder # 匯入 Label Encoder\n",
        "\n",
        "train_x = df[['Date', 'Open Price', 'High Price', 'Low Price', 'Volume']]       # 取出訓練資料需要分析的資料欄位\n",
        "train_y = df['Close Price']           #取出訓練資料答案的欄位\n",
        "\n",
        "le = LabelEncoder()                             # 創造 Label Encoder\n",
        "le.fit(train_x['Date'])                         # 由於日期不為單純數字，因此給予日期的每個類別一個數值\n",
        "train_x['Date'] = le.transform(train_x['Date']) # 轉換所有類別成為數值\n",
        "\n",
        "train_datanumber = len(train_x['Volume'])     #資料筆數\n",
        "train_trend = pd.Series(dtype=float)        #創建一紀錄漲跌的空series\n",
        "\n",
        "for i in range(0, train_datanumber-1):          #將當天與隔天之close price互相比較 若當天較高則跌設為0 若隔天較高則漲設為1\n",
        "  if df['Close Price'][i] > df['Close Price'][i+1]:\n",
        "    train_trend = train_trend.append(pd.Series(0))\n",
        "  else:\n",
        "    train_trend = train_trend.append(pd.Series(1))\n",
        "\n",
        "train_y = train_trend.to_frame()                       # 輸入訓練資料的答案\n",
        "\n",
        "train_x = train_x.drop(index=[train_datanumber-1])            # 由於最後一筆資料無隔天資料因此刪除\n",
        "\n",
        "x = range(0, train_datanumber-1)                      # 畫出時間與收盤價之關係圖\n",
        "y = df['Close Price'].drop(index=[train_datanumber-1])\n",
        "\n",
        "plt.plot(x, y, color='red', label='close price')\n",
        "\n",
        "plt.legend()\n",
        "plt.show()\n",
        "\n",
        "\n",
        "test_x = test[['Date', 'Open Price', 'High Price', 'Low Price', 'Volume']]      # 取出預測測試資料需要的資料欄位\n",
        "test_y = test['Close Price']               #取出預測資料答案的欄位\n",
        "\n",
        "le = LabelEncoder()                             # 創造 Label Encoder\n",
        "le.fit(test_x['Date'])                          # 由於日期不為單純數字，因此給予日期的每個類別一個數值\n",
        "test_x['Date'] = le.transform(test_x['Date'])   # 轉換所有類別成為數值\n",
        "\n",
        "test_datanumber = len(test_x['Volume'])       #測試資料筆數\n",
        "test_trend = pd.Series(dtype=float)         #創建一紀錄漲跌的空series\n",
        "\n",
        "for i in range(0, test_datanumber-1):      #將當天與隔天之close price互相比較 若當天較高則跌設為0 若隔天較高則漲設為1\n",
        "  if test['Close Price'][i] > test['Close Price'][i+1]:\n",
        "    test_trend = test_trend.append(pd.Series(0))\n",
        "  else:\n",
        "    test_trend = test_trend.append(pd.Series(1))\n",
        "\n",
        "test_y = test_trend.to_frame()                  # 輸入測試資料的答案\n",
        "\n",
        "test_x = test_x.drop(index=[test_datanumber-1]) # 由於最後一筆資料無隔天資料因此刪除\n"
      ],
      "execution_count": 2,
      "outputs": [
        {
          "output_type": "stream",
          "text": [
            "/usr/local/lib/python3.6/dist-packages/ipykernel_launcher.py:9: SettingWithCopyWarning: \n",
            "A value is trying to be set on a copy of a slice from a DataFrame.\n",
            "Try using .loc[row_indexer,col_indexer] = value instead\n",
            "\n",
            "See the caveats in the documentation: https://pandas.pydata.org/pandas-docs/stable/user_guide/indexing.html#returning-a-view-versus-a-copy\n",
            "  if __name__ == '__main__':\n"
          ],
          "name": "stderr"
        },
        {
          "output_type": "display_data",
          "data": {
            "image/png": "[encoded data removed]",
            "text/plain": [
              "<Figure size 432x288 with 1 Axes>"
            ]
          },
          "metadata": {
            "tags": [],
            "needs_background": "light"
          }
        },
        {
          "output_type": "stream",
          "text": [
            "-----------------------------------------------\n"
          ],
          "name": "stdout"
        },
        {
          "output_type": "stream",
          "text": [
            "/usr/local/lib/python3.6/dist-packages/ipykernel_launcher.py:39: SettingWithCopyWarning: \n",
            "A value is trying to be set on a copy of a slice from a DataFrame.\n",
            "Try using .loc[row_indexer,col_indexer] = value instead\n",
            "\n",
            "See the caveats in the documentation: https://pandas.pydata.org/pandas-docs/stable/user_guide/indexing.html#returning-a-view-versus-a-copy\n"
          ],
          "name": "stderr"
        }
      ]
    },
    {
      "cell_type": "markdown",
      "metadata": {
        "id": "pDculY7IhF4i",
        "colab_type": "text"
      },
      "source": [
        "## 模型訓練\n",
        "\n",
        "請在此區塊後使用**一個或多個區塊**進行模型訓練，**需要**包含以下內容：\n",
        "\n",
        "- **選擇模型**\n",
        "    - 設定模型**超參數**\n",
        "    - **控制隨機亂數**\n",
        "- 計算**準確度（Accuracy）**\n",
        "    - 使用 **5-fold cross validation**，輸出**平均準確度**\n",
        "    - 最後再使用**所有**資料進行訓練並輸出**準確度**\n",
        "    - 準確度必須**超越**課堂使用的範例\n",
        "    \n",
        "如果有進行多於一個以上的實驗，**可以保留所有**的實驗結果，但是執行時間將會納入**全部**實驗。"
      ]
    },
    {
      "cell_type": "code",
      "metadata": {
        "id": "CfPD4BhrhF4i",
        "colab_type": "code",
        "outputId": "2d4f6d73-f46e-47d7-9cb2-063b477f7d3e",
        "colab": {
          "base_uri": "https://localhost:8080/",
          "height": 439
        }
      },
      "source": [
        "# 模型訓練\n",
        "\n",
        "from sklearn.model_selection import KFold             # 匯入 K 次交叉驗證工具\n",
        "from sklearn.ensemble import RandomForestClassifier   # 匯入隨機森林模型\n",
        "from sklearn.naive_bayes import GaussianNB            # 匯入簡單貝氏模型\n",
        "from sklearn import preprocessing, linear_model       # 匯入羅吉斯回歸模型\n",
        "from sklearn.metrics import accuracy_score            # 匯入準確度計算工具\n",
        "\n",
        "kf = KFold(n_splits=5,                                # 設定 K 值，切成五份\n",
        "           random_state=1012,\n",
        "           shuffle=True)\n",
        "kf.get_n_splits(train_x)                              # 給予資料範圍\n",
        "\n",
        "train_acc_list_lr = []                                   # 儲存羅吉斯回歸每次訓練模型的準確度\n",
        "valid_acc_list_lr = []                                   # 儲存羅吉斯回歸每次驗證模型的準確度\n",
        "train_acc_list_rf = []                                   # 儲存隨機森林每次訓練模型的準確度\n",
        "valid_acc_list_rf = []                                   # 儲存隨機森林每次驗證模型的準確度\n",
        "train_acc_list_nb = []                                   # 儲存簡單貝氏每次訓練模型的準確度\n",
        "valid_acc_list_nb = []                                   # 儲存簡單貝氏每次驗證模型的準確度\n",
        "\n",
        "\n",
        "for train_index, valid_index in kf.split(train_x):    # 每個迴圈都會產生不同部份的資料\n",
        "    train_x_split = train_x.iloc[train_index]         # 產生訓練資料\n",
        "    train_y_split = train_y.iloc[train_index]         # 產生訓練資料標籤\n",
        "    valid_x_split = train_x.iloc[valid_index]         # 產生驗證資料\n",
        "    valid_y_split = train_y.iloc[valid_index]         # 產生驗證資料標籤\n",
        "    \n",
        "    lrmodel = linear_model.LogisticRegression(random_state=1012)             # 創造羅吉斯回歸模型\n",
        "    lrmodel.fit(train_x_split, train_y_split.to_numpy().flatten())           # 訓練羅吉斯回歸模型\n",
        "    \n",
        "    train_pred_y_lr = lrmodel.predict(train_x_split)     # 確認羅吉斯回歸模型是否訓練成功\n",
        "    train_acc_lr = accuracy_score(train_y_split,         # 計算羅吉斯回歸訓練資料準確度\n",
        "                               train_pred_y_lr)\n",
        "    valid_pred_y_lr = lrmodel.predict(valid_x_split)     # 驗證羅吉斯回歸模型是否訓練成功\n",
        "    valid_acc_lr = accuracy_score(valid_y_split,         # 計算羅吉斯回歸驗證資料準確度\n",
        "                               valid_pred_y_lr)\n",
        "    \n",
        "    train_acc_list_lr.append(train_acc_lr)               # 將準度加到儲存羅吉斯回歸訓練模型的list中\n",
        "    valid_acc_list_lr.append(valid_acc_lr)               # 將準度加到儲存羅吉斯回歸驗證模型的list中\n",
        "\n",
        "\n",
        "    rfmodel = RandomForestClassifier(random_state=1012)                      # 創造隨機森林模型\n",
        "    rfmodel.fit(train_x_split, train_y_split.to_numpy().flatten())           # 訓練隨機森林模型\n",
        "    \n",
        "    train_pred_y_rf = rfmodel.predict(train_x_split)       # 確認隨機森林模型是否訓練成功\n",
        "    train_acc_rf = accuracy_score(train_y_split,           # 計算隨機森林訓練資料準確度\n",
        "                               train_pred_y_rf)\n",
        "    valid_pred_y_rf = rfmodel.predict(valid_x_split)       # 驗證隨機森林模型是否訓練成功\n",
        "    valid_acc_rf = accuracy_score(valid_y_split,           # 計算隨機森林驗證資料準確度\n",
        "                               valid_pred_y_rf)\n",
        "    \n",
        "    train_acc_list_rf.append(train_acc_rf)                 # 將準度加到儲存隨機森林訓練模型的list中\n",
        "    valid_acc_list_rf.append(valid_acc_rf)                 # 將準度加到儲存隨機森林驗證模型的list中\n",
        "\n",
        "\n",
        "    nbmodel = GaussianNB()                                                # 創造簡單貝氏模型\n",
        "    nbmodel.fit(train_x_split, train_y_split.to_numpy().flatten())        # 訓練簡單貝氏模型\n",
        "    \n",
        "    train_pred_y_nb = nbmodel.predict(train_x_split)       # 確認簡單貝氏模型是否訓練成功\n",
        "    train_acc_nb = accuracy_score(train_y_split,           # 計算簡單貝氏訓練資料準確度\n",
        "                               train_pred_y_nb)\n",
        "    valid_pred_y_nb = nbmodel.predict(valid_x_split)       # 驗證簡單貝氏模型是否訓練成功\n",
        "    valid_acc_nb = accuracy_score(valid_y_split,           # 計算簡單貝氏驗證資料準確度\n",
        "                               valid_pred_y_nb)\n",
        "    \n",
        "    train_acc_list_nb.append(train_acc_nb)                 # 將準度加到儲存簡單貝氏訓練模型的list中\n",
        "    valid_acc_list_nb.append(valid_acc_nb)                 # 將準度加到儲存簡單貝氏訓練模型的list中\n",
        "\n",
        "    \n",
        "\n",
        "print((\n",
        "    'logistic regression average train accuracy: {}\\n' +\n",
        "    '                        min train accuracy: {}\\n' +\n",
        "    '                        max train accuracy: {}\\n' +\n",
        "    'logistic regression average valid accuracy: {}\\n' +\n",
        "    '                        min valid accuracy: {}\\n' +\n",
        "    '                        max valid accuracy: {}').format(\n",
        "    np.mean(train_acc_list_lr),                          # 輸出平均訓練準確度\n",
        "    np.min(train_acc_list_lr),                           # 輸出最低訓練準確度\n",
        "    np.max(train_acc_list_lr),                           # 輸出最高訓練準確度\n",
        "    np.mean(valid_acc_list_lr),                          # 輸出平均驗證準確度\n",
        "    np.min(valid_acc_list_lr),                           # 輸出最低驗證準確度\n",
        "    np.max(valid_acc_list_lr)                            # 輸出最高驗證準確度\n",
        "))\n",
        "\n",
        "test_pred_y_lr = lrmodel.predict(test_x)       # 驗證模型是否訓練成功\n",
        "test_acc_lr = accuracy_score(test_y,         # 計算驗證資料準確度\n",
        "                           test_pred_y_lr)\n",
        "print(('logistic regression test accuracy: {}\\n').format(test_acc_lr))\n",
        "\n",
        "\n",
        "\n",
        "print((\n",
        "    'random forest average train accuracy: {}\\n' +\n",
        "    '                  min train accuracy: {}\\n' +\n",
        "    '                  max train accuracy: {}\\n' +\n",
        "    'random forest average valid accuracy: {}\\n' +\n",
        "    '                  min valid accuracy: {}\\n' +\n",
        "    '                  max valid accuracy: {}').format(\n",
        "    np.mean(train_acc_list_rf),                          # 輸出平均訓練準確度\n",
        "    np.min(train_acc_list_rf),                           # 輸出最低訓練準確度\n",
        "    np.max(train_acc_list_rf),                           # 輸出最高訓練準確度\n",
        "    np.mean(valid_acc_list_rf),                          # 輸出平均驗證準確度\n",
        "    np.min(valid_acc_list_rf),                           # 輸出最低驗證準確度\n",
        "    np.max(valid_acc_list_rf)                            # 輸出最高驗證準確度\n",
        "))\n",
        "\n",
        "test_pred_y_rf = rfmodel.predict(test_x)       # 驗證模型是否訓練成功\n",
        "test_acc_rf = accuracy_score(test_y,         # 計算驗證資料準確度\n",
        "                           test_pred_y_rf)\n",
        "print(('random forest test accuracy: {}\\n').format(test_acc_rf))\n",
        "\n",
        "print((\n",
        "    'naive bayes average train accuracy: {}\\n' +\n",
        "    '                min train accuracy: {}\\n' +\n",
        "    '                max train accuracy: {}\\n' +\n",
        "    'naive bayes average valid accuracy: {}\\n' +\n",
        "    '                min valid accuracy: {}\\n' +\n",
        "    '                max valid accuracy: {}').format(\n",
        "    np.mean(train_acc_list_nb),                          # 輸出平均訓練準確度\n",
        "    np.min(train_acc_list_nb),                           # 輸出最低訓練準確度\n",
        "    np.max(train_acc_list_nb),                           # 輸出最高訓練準確度\n",
        "    np.mean(valid_acc_list_nb),                          # 輸出平均驗證準確度\n",
        "    np.min(valid_acc_list_nb),                           # 輸出最低驗證準確度\n",
        "    np.max(valid_acc_list_nb)                            # 輸出最高驗證準確度\n",
        "))\n",
        "\n",
        "test_pred_y_nb = nbmodel.predict(test_x)       # 驗證模型是否訓練成功\n",
        "test_acc_nb = accuracy_score(test_y,         # 計算驗證資料準確度\n",
        "                           test_pred_y_nb)\n",
        "print(('naive bayes test accuracy: {}\\n').format(test_acc_nb))"
      ],
      "execution_count": 3,
      "outputs": [
        {
          "output_type": "stream",
          "text": [
            "logistic regression average train accuracy: 0.5475044769380489\n",
            "                        min train accuracy: 0.5383765875207068\n",
            "                        max train accuracy: 0.5552486187845304\n",
            "logistic regression average valid accuracy: 0.5475219285393347\n",
            "                        min valid accuracy: 0.5165562913907285\n",
            "                        max valid accuracy: 0.584070796460177\n",
            "logistic regression test accuracy: 0.5258964143426295\n",
            "\n",
            "random forest average train accuracy: 1.0\n",
            "                  min train accuracy: 1.0\n",
            "                  max train accuracy: 1.0\n",
            "random forest average valid accuracy: 0.5037547129266053\n",
            "                  min valid accuracy: 0.4756637168141593\n",
            "                  max valid accuracy: 0.5287610619469026\n",
            "random forest test accuracy: 0.4940239043824701\n",
            "\n",
            "naive bayes average train accuracy: 0.5470629761036758\n",
            "                min train accuracy: 0.5350635008282717\n",
            "                max train accuracy: 0.5574585635359116\n",
            "naive bayes average valid accuracy: 0.5430961730059192\n",
            "                min valid accuracy: 0.5209713024282561\n",
            "                max valid accuracy: 0.577433628318584\n",
            "naive bayes test accuracy: 0.5258964143426295\n",
            "\n"
          ],
          "name": "stdout"
        }
      ]
    },
    {
      "cell_type": "code",
      "metadata": {
        "id": "IsmFmuQXp9gl",
        "colab_type": "code",
        "outputId": "35574065-048c-4452-cf60-a9ca35be9fd9",
        "colab": {
          "base_uri": "https://localhost:8080/",
          "height": 52
        }
      },
      "source": [
        "from sklearn.neural_network import MLPClassifier    #匯入MLP分類器的函式庫\n",
        "nnmodel = MLPClassifier(hidden_layer_sizes=(100,), activation='logistic', solver='sgd', learning_rate='adaptive'\n",
        "                          , learning_rate_init=0.001, max_iter=500).fit(train_x, train_y.to_numpy().flatten())\n",
        "   #使用MLP分類器 有100層隱藏層，啟動函數使用羅吉斯，優化方法選擇SGD，讓學習率為可變動的，最多迭代五百次\n",
        "\n",
        "test_pred_y_nn = nnmodel.predict(test_x)       # 驗證神經網路模型是否訓練成功\n",
        "test_acc_nn = accuracy_score(test_y,           # 計算神經網路驗證資料準確度\n",
        "                           test_pred_y_nn)\n",
        "print(('neural network test accuracy: {}\\n').format(test_acc_nn))"
      ],
      "execution_count": 4,
      "outputs": [
        {
          "output_type": "stream",
          "text": [
            "neural network test accuracy: 0.5258964143426295\n",
            "\n"
          ],
          "name": "stdout"
        }
      ]
    },
    {
      "cell_type": "code",
      "metadata": {
        "id": "tGZyX79whF4m",
        "colab_type": "code",
        "outputId": "c5479e7c-fac5-40b2-99e0-72ac9808424a",
        "colab": {
          "base_uri": "https://localhost:8080/",
          "height": 34
        }
      },
      "source": [
        "# 請勿更動此區塊程式碼\n",
        "\n",
        "EXECUTION_END_TIME = time.time() # 計算執行時間\n",
        "print('total execution time: {}'.format(EXECUTION_END_TIME - EXECUTION_START_TIME))"
      ],
      "execution_count": 5,
      "outputs": [
        {
          "output_type": "stream",
          "text": [
            "total execution time: 6.085763692855835\n"
          ],
          "name": "stdout"
        }
      ]
    }
  ]
}